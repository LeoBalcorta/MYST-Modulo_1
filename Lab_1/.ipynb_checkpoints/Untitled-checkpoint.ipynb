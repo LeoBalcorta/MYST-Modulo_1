{
 "cells": [
  {
   "cell_type": "code",
   "execution_count": 1,
   "id": "2b1f7218",
   "metadata": {},
   "outputs": [],
   "source": [
    "from PyQt5.QtWidgets import *\n",
    "import pandas as pd\n",
    "import xlwings as xw\n",
    "import sys\n",
    "import yfinance as yf\n",
    "import numpy as np\n",
    "\n",
    "class CloseForm(QWidget):\n",
    "    def __init__(self, name = 'CloseForm'):\n",
    "        super(CloseForm,self).__init__()\n",
    "        self.setWindowTitle(name)\n",
    "        self.resize(200,100)   # size\n",
    "        # btn 1\n",
    "        self.btn_done = QPushButton(self)  \n",
    "        self.btn_done.setObjectName(\"btn_done\")  \n",
    "        self.btn_done.setText(\"Done\")\n",
    "        # set layout \n",
    "        layout = QVBoxLayout()\n",
    "        layout.addWidget(self.btn_done)\n",
    "        self.setLayout(layout)\n",
    "        # signal\n",
    "        self.btn_done.clicked.connect(self.close)\n",
    "        \n",
    "def finish_code():\n",
    "    app = QApplication(sys.argv)\n",
    "    closeForm = CloseForm('Finish')\n",
    "    closeForm.show()\n",
    "    try:\n",
    "        sys.exit(app.exec_())\n",
    "    except SystemExit:\n",
    "        print('Closing Window')\n",
    "\n",
    "def consolidate_files():\n",
    "    choose_files()\n",
    "    completo = pd.read_csv(files[0], header = 2).dropna()\n",
    "    if len(files) > 1:\n",
    "        for i in range(len(files)-1): \n",
    "            archivo = pd.read_csv(files[i+1], header = 2).dropna()\n",
    "            completo=pd.concat([completo,archivo])\n",
    "    else:\n",
    "        completo\n",
    "        \n",
    "    finish_code()    \n",
    "    return completo\n",
    "    \n",
    "    \n",
    "\n",
    "\n",
    "class Files(QWidget):\n",
    "    def __init__(self, name = 'Files'):\n",
    "        super(Files,self).__init__()\n",
    "        self.setWindowTitle(name)\n",
    "        self.resize(400,150)   # size\n",
    "        # btn\n",
    "        self.btn_chooseFile3 = QPushButton(self)  \n",
    "        self.btn_chooseFile3.setObjectName(\"btn_chooseFile\")  \n",
    "        self.btn_chooseFile3.setText(\"[---Choose all files---]\")\n",
    "        # Layout\n",
    "        layout = QVBoxLayout()\n",
    "        layout.addWidget(self.btn_chooseFile3)\n",
    "        self.setLayout(layout)\n",
    "        self.btn_chooseFile3.clicked.connect(self.slot_btn_chooseFile3)\n",
    "        \n",
    "    \n",
    "\n",
    "    def slot_btn_chooseFile3(self):\n",
    "        global files\n",
    "        files, filetype = QFileDialog.getOpenFileNames(self,  \n",
    "                                    \"Choose Path\",  \n",
    "                                    \"\", # start path\n",
    "                                    \"Excel File (*csv *.xlsx *.xls *.xlsb);;All Files (*)\")  \n",
    "\n",
    "        if files != \"\":\n",
    "            self.close()\n",
    "        elif files == \"\":\n",
    "            return \n",
    "\n",
    "def choose_files():\n",
    "    app = QApplication(sys.argv)\n",
    "    files = Files('Historicos')\n",
    "    files.show()\n",
    "    try:\n",
    "        sys.exit(app.exec_())\n",
    "    except SystemExit:\n",
    "        print('Files selected')\n",
    "        \n",
    "def Tickers():\n",
    "    data = consolidate_files()\n",
    "    print(f\"Hay {(data['Ticker'].value_counts() == 31).value_counts()[1]} Tickers que estan en todos los archivos\")\n",
    "    tickers = pd.DataFrame(data['Ticker'].value_counts())\n",
    "    ticker = tickers['Ticker'] == 31\n",
    "    tickers = tickers[ticker]\n",
    "    Ticker = pd.DataFrame(tickers.index)\n",
    "    Ticker.rename(columns={0:'Ticker'}, inplace = True)\n",
    "    for i in range(len(Ticker)):\n",
    "        Ticker['Ticker'][i] = Ticker['Ticker'][i].replace(\"*\", \"\" )\n",
    "        Ticker['Ticker'][i] = Ticker['Ticker'][i].replace(\".\", \"-\" )\n",
    "        Ticker['Ticker'][i] = Ticker['Ticker'][i].replace('MXN','POP')\n",
    "        Ticker['Ticker'][i] = Ticker['Ticker'][i].replace('GFNORTEO','PP')\n",
    "        Ticker['Ticker'][i] = Ticker['Ticker'][i]+\".MX\"\n",
    "        Ticker['Ticker'][i] = Ticker['Ticker'][i].replace('POP','GFNORTEO')\n",
    "        Ticker['Ticker'][i] = Ticker['Ticker'][i].replace('PP.MX','MXN=X')\n",
    "        \n",
    "    \n",
    "    Ticker['Ticker'].sort_values\n",
    "    ticker = list(Ticker['Ticker'].values)\n",
    "    \n",
    "    \n",
    "    return ticker\n",
    "\n",
    "def stockprices(tickers):\n",
    "    end = \"2022-07-29\"\n",
    "    start = \"2020-1-31\"\n",
    "    stockPrices = (yf.download(tickers, start = start, end = end, interval = '1mo')[\"Adj Close\"]).dropna()\n",
    "    return stockPrices"
   ]
  },
  {
   "cell_type": "code",
   "execution_count": 2,
   "id": "846b6d09",
   "metadata": {},
   "outputs": [
    {
     "name": "stdout",
     "output_type": "stream",
     "text": [
      "Files selected\n",
      "Closing Window\n",
      "Hay 30 Tickers que estan en todos los archivos\n"
     ]
    }
   ],
   "source": [
    "tickers = Tickers()"
   ]
  },
  {
   "cell_type": "code",
   "execution_count": 13,
   "id": "b79075e8",
   "metadata": {},
   "outputs": [
    {
     "name": "stdout",
     "output_type": "stream",
     "text": [
      "[*********************100%***********************]  30 of 30 completed\n"
     ]
    }
   ],
   "source": [
    "dfsp = stockprices(tickers)"
   ]
  },
  {
   "cell_type": "code",
   "execution_count": null,
   "id": "a60d4cff",
   "metadata": {},
   "outputs": [],
   "source": []
  },
  {
   "cell_type": "code",
   "execution_count": 5,
   "id": "d2e85ede",
   "metadata": {},
   "outputs": [],
   "source": [
    "datos = pd.read_csv('../NAFTRAC_20200131.csv', header = 2)\n",
    "peso_nuevo29 = datos['Peso (%)'].dropna()[30::].sum() + datos['Peso (%)'][29]\n",
    "datos['Peso (%)'].iloc[29] = peso_nuevo29\n",
    "pesos = datos['Peso (%)'][0:30]\n",
    "cap = 10000\n",
    "dfspt = dfsp.transpose()\n",
    "dfp = pd.DataFrame(dfspt.index)\n",
    "dfp.rename(columns={0:'Ticker'}, inplace = True)\n",
    "dfp['Cap'] = pesos * cap"
   ]
  },
  {
   "cell_type": "code",
   "execution_count": 6,
   "id": "5ec30b0e",
   "metadata": {},
   "outputs": [],
   "source": [
    "dfp['Prices'] = dfspt['2020-02-01'].values\n",
    "dfp['Titulos'] = dfp['Cap']//dfp['Prices']\n",
    "dfpET = pd.DataFrame([dfp.iloc[19],dfp.iloc[23]])\n",
    "dfp_preview = dfp.drop(dfp[dfp['Ticker']=='MXN=X'].index)\n",
    "dfp_new = dfp_preview.drop(dfp[dfp['Ticker']=='KOFUBL.MX'].index)"
   ]
  },
  {
   "cell_type": "code",
   "execution_count": 10,
   "id": "ba270dd0",
   "metadata": {},
   "outputs": [
    {
     "data": {
      "text/plain": [
       "35903.0"
      ]
     },
     "execution_count": 10,
     "metadata": {},
     "output_type": "execute_result"
    }
   ],
   "source": [
    "dfp_new['Titulos'].sum()"
   ]
  },
  {
   "cell_type": "code",
   "execution_count": 11,
   "id": "e13260f3",
   "metadata": {},
   "outputs": [
    {
     "ename": "ValueError",
     "evalue": "operands could not be broadcast together with shapes (30,) (28,) ",
     "output_type": "error",
     "traceback": [
      "\u001b[1;31m---------------------------------------------------------------------------\u001b[0m",
      "\u001b[1;31mValueError\u001b[0m                                Traceback (most recent call last)",
      "\u001b[1;32m~\\AppData\\Local\\Temp/ipykernel_12932/2980043598.py\u001b[0m in \u001b[0;36m<module>\u001b[1;34m\u001b[0m\n\u001b[0;32m      1\u001b[0m \u001b[0mpasiv\u001b[0m \u001b[1;33m=\u001b[0m  \u001b[0mpd\u001b[0m\u001b[1;33m.\u001b[0m\u001b[0mDataFrame\u001b[0m\u001b[1;33m(\u001b[0m\u001b[0mindex\u001b[0m\u001b[1;33m=\u001b[0m\u001b[0mrange\u001b[0m\u001b[1;33m(\u001b[0m\u001b[0mlen\u001b[0m\u001b[1;33m(\u001b[0m\u001b[0mdfsp\u001b[0m\u001b[1;33m)\u001b[0m\u001b[1;33m)\u001b[0m\u001b[1;33m,\u001b[0m \u001b[0mcolumns\u001b[0m\u001b[1;33m=\u001b[0m\u001b[1;33m[\u001b[0m\u001b[1;34m'Timestamp'\u001b[0m\u001b[1;33m,\u001b[0m \u001b[1;34m'Capital'\u001b[0m\u001b[1;33m,\u001b[0m\u001b[1;34m'Rendimiento'\u001b[0m\u001b[1;33m,\u001b[0m \u001b[1;34m'Rendimiento_Acumulado'\u001b[0m\u001b[1;33m]\u001b[0m\u001b[1;33m)\u001b[0m\u001b[1;33m\u001b[0m\u001b[1;33m\u001b[0m\u001b[0m\n\u001b[0;32m      2\u001b[0m \u001b[1;32mfor\u001b[0m \u001b[0mi\u001b[0m \u001b[1;32min\u001b[0m \u001b[0mrange\u001b[0m\u001b[1;33m(\u001b[0m\u001b[0mlen\u001b[0m\u001b[1;33m(\u001b[0m\u001b[0mdfsp\u001b[0m\u001b[1;33m)\u001b[0m\u001b[1;33m)\u001b[0m\u001b[1;33m:\u001b[0m\u001b[1;33m\u001b[0m\u001b[1;33m\u001b[0m\u001b[0m\n\u001b[1;32m----> 3\u001b[1;33m     \u001b[0mpasiv\u001b[0m\u001b[1;33m[\u001b[0m\u001b[1;34m'Capital'\u001b[0m\u001b[1;33m]\u001b[0m\u001b[1;33m[\u001b[0m\u001b[0mi\u001b[0m\u001b[1;33m]\u001b[0m\u001b[1;33m=\u001b[0m\u001b[1;33m(\u001b[0m\u001b[0mdfsp\u001b[0m\u001b[1;33m.\u001b[0m\u001b[0miloc\u001b[0m\u001b[1;33m[\u001b[0m\u001b[0mi\u001b[0m\u001b[1;33m]\u001b[0m\u001b[1;33m.\u001b[0m\u001b[0mvalues\u001b[0m \u001b[1;33m*\u001b[0m \u001b[0mdfp_new\u001b[0m\u001b[1;33m[\u001b[0m\u001b[1;34m'Titulos'\u001b[0m\u001b[1;33m]\u001b[0m\u001b[1;33m)\u001b[0m\u001b[1;33m.\u001b[0m\u001b[0msum\u001b[0m\u001b[1;33m(\u001b[0m\u001b[1;33m)\u001b[0m\u001b[1;33m\u001b[0m\u001b[1;33m\u001b[0m\u001b[0m\n\u001b[0m\u001b[0;32m      4\u001b[0m \u001b[0mpasiv\u001b[0m\u001b[1;33m[\u001b[0m\u001b[1;34m'Timestamp'\u001b[0m\u001b[1;33m]\u001b[0m \u001b[1;33m=\u001b[0m \u001b[0mdfsp\u001b[0m\u001b[1;33m.\u001b[0m\u001b[0mindex\u001b[0m\u001b[1;33m\u001b[0m\u001b[1;33m\u001b[0m\u001b[0m\n\u001b[0;32m      5\u001b[0m \u001b[0mpasiv_1\u001b[0m \u001b[1;33m=\u001b[0m  \u001b[0mpd\u001b[0m\u001b[1;33m.\u001b[0m\u001b[0mDataFrame\u001b[0m\u001b[1;33m(\u001b[0m\u001b[0mindex\u001b[0m\u001b[1;33m=\u001b[0m\u001b[0mrange\u001b[0m\u001b[1;33m(\u001b[0m\u001b[1;36m1\u001b[0m\u001b[1;33m)\u001b[0m\u001b[1;33m,\u001b[0m \u001b[0mcolumns\u001b[0m\u001b[1;33m=\u001b[0m\u001b[1;33m[\u001b[0m\u001b[1;34m'Timestamp'\u001b[0m\u001b[1;33m,\u001b[0m \u001b[1;34m'Capital'\u001b[0m\u001b[1;33m,\u001b[0m\u001b[1;34m'Rendimiento'\u001b[0m\u001b[1;33m,\u001b[0m \u001b[1;34m'Rendimiento_Acumulado'\u001b[0m\u001b[1;33m]\u001b[0m\u001b[1;33m)\u001b[0m\u001b[1;33m\u001b[0m\u001b[1;33m\u001b[0m\u001b[0m\n",
      "\u001b[1;32m~\\Anaconda3\\lib\\site-packages\\pandas\\core\\generic.py\u001b[0m in \u001b[0;36m__array_ufunc__\u001b[1;34m(self, ufunc, method, *inputs, **kwargs)\u001b[0m\n\u001b[0;32m   2030\u001b[0m         \u001b[0mself\u001b[0m\u001b[1;33m,\u001b[0m \u001b[0mufunc\u001b[0m\u001b[1;33m:\u001b[0m \u001b[0mnp\u001b[0m\u001b[1;33m.\u001b[0m\u001b[0mufunc\u001b[0m\u001b[1;33m,\u001b[0m \u001b[0mmethod\u001b[0m\u001b[1;33m:\u001b[0m \u001b[0mstr\u001b[0m\u001b[1;33m,\u001b[0m \u001b[1;33m*\u001b[0m\u001b[0minputs\u001b[0m\u001b[1;33m:\u001b[0m \u001b[0mAny\u001b[0m\u001b[1;33m,\u001b[0m \u001b[1;33m**\u001b[0m\u001b[0mkwargs\u001b[0m\u001b[1;33m:\u001b[0m \u001b[0mAny\u001b[0m\u001b[1;33m\u001b[0m\u001b[1;33m\u001b[0m\u001b[0m\n\u001b[0;32m   2031\u001b[0m     ):\n\u001b[1;32m-> 2032\u001b[1;33m         \u001b[1;32mreturn\u001b[0m \u001b[0marraylike\u001b[0m\u001b[1;33m.\u001b[0m\u001b[0marray_ufunc\u001b[0m\u001b[1;33m(\u001b[0m\u001b[0mself\u001b[0m\u001b[1;33m,\u001b[0m \u001b[0mufunc\u001b[0m\u001b[1;33m,\u001b[0m \u001b[0mmethod\u001b[0m\u001b[1;33m,\u001b[0m \u001b[1;33m*\u001b[0m\u001b[0minputs\u001b[0m\u001b[1;33m,\u001b[0m \u001b[1;33m**\u001b[0m\u001b[0mkwargs\u001b[0m\u001b[1;33m)\u001b[0m\u001b[1;33m\u001b[0m\u001b[1;33m\u001b[0m\u001b[0m\n\u001b[0m\u001b[0;32m   2033\u001b[0m \u001b[1;33m\u001b[0m\u001b[0m\n\u001b[0;32m   2034\u001b[0m     \u001b[1;31m# ideally we would define this to avoid the getattr checks, but\u001b[0m\u001b[1;33m\u001b[0m\u001b[1;33m\u001b[0m\u001b[0m\n",
      "\u001b[1;32m~\\Anaconda3\\lib\\site-packages\\pandas\\core\\arraylike.py\u001b[0m in \u001b[0;36marray_ufunc\u001b[1;34m(self, ufunc, method, *inputs, **kwargs)\u001b[0m\n\u001b[0;32m    251\u001b[0m \u001b[1;33m\u001b[0m\u001b[0m\n\u001b[0;32m    252\u001b[0m     \u001b[1;31m# for binary ops, use our custom dunder methods\u001b[0m\u001b[1;33m\u001b[0m\u001b[1;33m\u001b[0m\u001b[0m\n\u001b[1;32m--> 253\u001b[1;33m     \u001b[0mresult\u001b[0m \u001b[1;33m=\u001b[0m \u001b[0mmaybe_dispatch_ufunc_to_dunder_op\u001b[0m\u001b[1;33m(\u001b[0m\u001b[0mself\u001b[0m\u001b[1;33m,\u001b[0m \u001b[0mufunc\u001b[0m\u001b[1;33m,\u001b[0m \u001b[0mmethod\u001b[0m\u001b[1;33m,\u001b[0m \u001b[1;33m*\u001b[0m\u001b[0minputs\u001b[0m\u001b[1;33m,\u001b[0m \u001b[1;33m**\u001b[0m\u001b[0mkwargs\u001b[0m\u001b[1;33m)\u001b[0m\u001b[1;33m\u001b[0m\u001b[1;33m\u001b[0m\u001b[0m\n\u001b[0m\u001b[0;32m    254\u001b[0m     \u001b[1;32mif\u001b[0m \u001b[0mresult\u001b[0m \u001b[1;32mis\u001b[0m \u001b[1;32mnot\u001b[0m \u001b[0mNotImplemented\u001b[0m\u001b[1;33m:\u001b[0m\u001b[1;33m\u001b[0m\u001b[1;33m\u001b[0m\u001b[0m\n\u001b[0;32m    255\u001b[0m         \u001b[1;32mreturn\u001b[0m \u001b[0mresult\u001b[0m\u001b[1;33m\u001b[0m\u001b[1;33m\u001b[0m\u001b[0m\n",
      "\u001b[1;32m~\\Anaconda3\\lib\\site-packages\\pandas\\_libs\\ops_dispatch.pyx\u001b[0m in \u001b[0;36mpandas._libs.ops_dispatch.maybe_dispatch_ufunc_to_dunder_op\u001b[1;34m()\u001b[0m\n",
      "\u001b[1;32m~\\Anaconda3\\lib\\site-packages\\pandas\\core\\ops\\common.py\u001b[0m in \u001b[0;36mnew_method\u001b[1;34m(self, other)\u001b[0m\n\u001b[0;32m     67\u001b[0m         \u001b[0mother\u001b[0m \u001b[1;33m=\u001b[0m \u001b[0mitem_from_zerodim\u001b[0m\u001b[1;33m(\u001b[0m\u001b[0mother\u001b[0m\u001b[1;33m)\u001b[0m\u001b[1;33m\u001b[0m\u001b[1;33m\u001b[0m\u001b[0m\n\u001b[0;32m     68\u001b[0m \u001b[1;33m\u001b[0m\u001b[0m\n\u001b[1;32m---> 69\u001b[1;33m         \u001b[1;32mreturn\u001b[0m \u001b[0mmethod\u001b[0m\u001b[1;33m(\u001b[0m\u001b[0mself\u001b[0m\u001b[1;33m,\u001b[0m \u001b[0mother\u001b[0m\u001b[1;33m)\u001b[0m\u001b[1;33m\u001b[0m\u001b[1;33m\u001b[0m\u001b[0m\n\u001b[0m\u001b[0;32m     70\u001b[0m \u001b[1;33m\u001b[0m\u001b[0m\n\u001b[0;32m     71\u001b[0m     \u001b[1;32mreturn\u001b[0m \u001b[0mnew_method\u001b[0m\u001b[1;33m\u001b[0m\u001b[1;33m\u001b[0m\u001b[0m\n",
      "\u001b[1;32m~\\Anaconda3\\lib\\site-packages\\pandas\\core\\arraylike.py\u001b[0m in \u001b[0;36m__rmul__\u001b[1;34m(self, other)\u001b[0m\n\u001b[0;32m    110\u001b[0m     \u001b[1;33m@\u001b[0m\u001b[0munpack_zerodim_and_defer\u001b[0m\u001b[1;33m(\u001b[0m\u001b[1;34m\"__rmul__\"\u001b[0m\u001b[1;33m)\u001b[0m\u001b[1;33m\u001b[0m\u001b[1;33m\u001b[0m\u001b[0m\n\u001b[0;32m    111\u001b[0m     \u001b[1;32mdef\u001b[0m \u001b[0m__rmul__\u001b[0m\u001b[1;33m(\u001b[0m\u001b[0mself\u001b[0m\u001b[1;33m,\u001b[0m \u001b[0mother\u001b[0m\u001b[1;33m)\u001b[0m\u001b[1;33m:\u001b[0m\u001b[1;33m\u001b[0m\u001b[1;33m\u001b[0m\u001b[0m\n\u001b[1;32m--> 112\u001b[1;33m         \u001b[1;32mreturn\u001b[0m \u001b[0mself\u001b[0m\u001b[1;33m.\u001b[0m\u001b[0m_arith_method\u001b[0m\u001b[1;33m(\u001b[0m\u001b[0mother\u001b[0m\u001b[1;33m,\u001b[0m \u001b[0mroperator\u001b[0m\u001b[1;33m.\u001b[0m\u001b[0mrmul\u001b[0m\u001b[1;33m)\u001b[0m\u001b[1;33m\u001b[0m\u001b[1;33m\u001b[0m\u001b[0m\n\u001b[0m\u001b[0;32m    113\u001b[0m \u001b[1;33m\u001b[0m\u001b[0m\n\u001b[0;32m    114\u001b[0m     \u001b[1;33m@\u001b[0m\u001b[0munpack_zerodim_and_defer\u001b[0m\u001b[1;33m(\u001b[0m\u001b[1;34m\"__truediv__\"\u001b[0m\u001b[1;33m)\u001b[0m\u001b[1;33m\u001b[0m\u001b[1;33m\u001b[0m\u001b[0m\n",
      "\u001b[1;32m~\\Anaconda3\\lib\\site-packages\\pandas\\core\\series.py\u001b[0m in \u001b[0;36m_arith_method\u001b[1;34m(self, other, op)\u001b[0m\n\u001b[0;32m   5524\u001b[0m \u001b[1;33m\u001b[0m\u001b[0m\n\u001b[0;32m   5525\u001b[0m         \u001b[1;32mwith\u001b[0m \u001b[0mnp\u001b[0m\u001b[1;33m.\u001b[0m\u001b[0merrstate\u001b[0m\u001b[1;33m(\u001b[0m\u001b[0mall\u001b[0m\u001b[1;33m=\u001b[0m\u001b[1;34m\"ignore\"\u001b[0m\u001b[1;33m)\u001b[0m\u001b[1;33m:\u001b[0m\u001b[1;33m\u001b[0m\u001b[1;33m\u001b[0m\u001b[0m\n\u001b[1;32m-> 5526\u001b[1;33m             \u001b[0mresult\u001b[0m \u001b[1;33m=\u001b[0m \u001b[0mops\u001b[0m\u001b[1;33m.\u001b[0m\u001b[0marithmetic_op\u001b[0m\u001b[1;33m(\u001b[0m\u001b[0mlvalues\u001b[0m\u001b[1;33m,\u001b[0m \u001b[0mrvalues\u001b[0m\u001b[1;33m,\u001b[0m \u001b[0mop\u001b[0m\u001b[1;33m)\u001b[0m\u001b[1;33m\u001b[0m\u001b[1;33m\u001b[0m\u001b[0m\n\u001b[0m\u001b[0;32m   5527\u001b[0m \u001b[1;33m\u001b[0m\u001b[0m\n\u001b[0;32m   5528\u001b[0m         \u001b[1;32mreturn\u001b[0m \u001b[0mself\u001b[0m\u001b[1;33m.\u001b[0m\u001b[0m_construct_result\u001b[0m\u001b[1;33m(\u001b[0m\u001b[0mresult\u001b[0m\u001b[1;33m,\u001b[0m \u001b[0mname\u001b[0m\u001b[1;33m=\u001b[0m\u001b[0mres_name\u001b[0m\u001b[1;33m)\u001b[0m\u001b[1;33m\u001b[0m\u001b[1;33m\u001b[0m\u001b[0m\n",
      "\u001b[1;32m~\\Anaconda3\\lib\\site-packages\\pandas\\core\\ops\\array_ops.py\u001b[0m in \u001b[0;36marithmetic_op\u001b[1;34m(left, right, op)\u001b[0m\n\u001b[0;32m    222\u001b[0m         \u001b[0m_bool_arith_check\u001b[0m\u001b[1;33m(\u001b[0m\u001b[0mop\u001b[0m\u001b[1;33m,\u001b[0m \u001b[0mleft\u001b[0m\u001b[1;33m,\u001b[0m \u001b[0mright\u001b[0m\u001b[1;33m)\u001b[0m\u001b[1;33m\u001b[0m\u001b[1;33m\u001b[0m\u001b[0m\n\u001b[0;32m    223\u001b[0m \u001b[1;33m\u001b[0m\u001b[0m\n\u001b[1;32m--> 224\u001b[1;33m         \u001b[0mres_values\u001b[0m \u001b[1;33m=\u001b[0m \u001b[0m_na_arithmetic_op\u001b[0m\u001b[1;33m(\u001b[0m\u001b[0mleft\u001b[0m\u001b[1;33m,\u001b[0m \u001b[0mright\u001b[0m\u001b[1;33m,\u001b[0m \u001b[0mop\u001b[0m\u001b[1;33m)\u001b[0m\u001b[1;33m\u001b[0m\u001b[1;33m\u001b[0m\u001b[0m\n\u001b[0m\u001b[0;32m    225\u001b[0m \u001b[1;33m\u001b[0m\u001b[0m\n\u001b[0;32m    226\u001b[0m     \u001b[1;32mreturn\u001b[0m \u001b[0mres_values\u001b[0m\u001b[1;33m\u001b[0m\u001b[1;33m\u001b[0m\u001b[0m\n",
      "\u001b[1;32m~\\Anaconda3\\lib\\site-packages\\pandas\\core\\ops\\array_ops.py\u001b[0m in \u001b[0;36m_na_arithmetic_op\u001b[1;34m(left, right, op, is_cmp)\u001b[0m\n\u001b[0;32m    164\u001b[0m \u001b[1;33m\u001b[0m\u001b[0m\n\u001b[0;32m    165\u001b[0m     \u001b[1;32mtry\u001b[0m\u001b[1;33m:\u001b[0m\u001b[1;33m\u001b[0m\u001b[1;33m\u001b[0m\u001b[0m\n\u001b[1;32m--> 166\u001b[1;33m         \u001b[0mresult\u001b[0m \u001b[1;33m=\u001b[0m \u001b[0mfunc\u001b[0m\u001b[1;33m(\u001b[0m\u001b[0mleft\u001b[0m\u001b[1;33m,\u001b[0m \u001b[0mright\u001b[0m\u001b[1;33m)\u001b[0m\u001b[1;33m\u001b[0m\u001b[1;33m\u001b[0m\u001b[0m\n\u001b[0m\u001b[0;32m    167\u001b[0m     \u001b[1;32mexcept\u001b[0m \u001b[0mTypeError\u001b[0m\u001b[1;33m:\u001b[0m\u001b[1;33m\u001b[0m\u001b[1;33m\u001b[0m\u001b[0m\n\u001b[0;32m    168\u001b[0m         \u001b[1;32mif\u001b[0m \u001b[0mis_object_dtype\u001b[0m\u001b[1;33m(\u001b[0m\u001b[0mleft\u001b[0m\u001b[1;33m)\u001b[0m \u001b[1;32mor\u001b[0m \u001b[0mis_object_dtype\u001b[0m\u001b[1;33m(\u001b[0m\u001b[0mright\u001b[0m\u001b[1;33m)\u001b[0m \u001b[1;32mand\u001b[0m \u001b[1;32mnot\u001b[0m \u001b[0mis_cmp\u001b[0m\u001b[1;33m:\u001b[0m\u001b[1;33m\u001b[0m\u001b[1;33m\u001b[0m\u001b[0m\n",
      "\u001b[1;32m~\\Anaconda3\\lib\\site-packages\\pandas\\core\\computation\\expressions.py\u001b[0m in \u001b[0;36mevaluate\u001b[1;34m(op, a, b, use_numexpr)\u001b[0m\n\u001b[0;32m    237\u001b[0m         \u001b[1;32mif\u001b[0m \u001b[0muse_numexpr\u001b[0m\u001b[1;33m:\u001b[0m\u001b[1;33m\u001b[0m\u001b[1;33m\u001b[0m\u001b[0m\n\u001b[0;32m    238\u001b[0m             \u001b[1;31m# error: \"None\" not callable\u001b[0m\u001b[1;33m\u001b[0m\u001b[1;33m\u001b[0m\u001b[0m\n\u001b[1;32m--> 239\u001b[1;33m             \u001b[1;32mreturn\u001b[0m \u001b[0m_evaluate\u001b[0m\u001b[1;33m(\u001b[0m\u001b[0mop\u001b[0m\u001b[1;33m,\u001b[0m \u001b[0mop_str\u001b[0m\u001b[1;33m,\u001b[0m \u001b[0ma\u001b[0m\u001b[1;33m,\u001b[0m \u001b[0mb\u001b[0m\u001b[1;33m)\u001b[0m  \u001b[1;31m# type: ignore[misc]\u001b[0m\u001b[1;33m\u001b[0m\u001b[1;33m\u001b[0m\u001b[0m\n\u001b[0m\u001b[0;32m    240\u001b[0m     \u001b[1;32mreturn\u001b[0m \u001b[0m_evaluate_standard\u001b[0m\u001b[1;33m(\u001b[0m\u001b[0mop\u001b[0m\u001b[1;33m,\u001b[0m \u001b[0mop_str\u001b[0m\u001b[1;33m,\u001b[0m \u001b[0ma\u001b[0m\u001b[1;33m,\u001b[0m \u001b[0mb\u001b[0m\u001b[1;33m)\u001b[0m\u001b[1;33m\u001b[0m\u001b[1;33m\u001b[0m\u001b[0m\n\u001b[0;32m    241\u001b[0m \u001b[1;33m\u001b[0m\u001b[0m\n",
      "\u001b[1;32m~\\Anaconda3\\lib\\site-packages\\pandas\\core\\computation\\expressions.py\u001b[0m in \u001b[0;36m_evaluate_numexpr\u001b[1;34m(op, op_str, a, b)\u001b[0m\n\u001b[0;32m    126\u001b[0m \u001b[1;33m\u001b[0m\u001b[0m\n\u001b[0;32m    127\u001b[0m     \u001b[1;32mif\u001b[0m \u001b[0mresult\u001b[0m \u001b[1;32mis\u001b[0m \u001b[1;32mNone\u001b[0m\u001b[1;33m:\u001b[0m\u001b[1;33m\u001b[0m\u001b[1;33m\u001b[0m\u001b[0m\n\u001b[1;32m--> 128\u001b[1;33m         \u001b[0mresult\u001b[0m \u001b[1;33m=\u001b[0m \u001b[0m_evaluate_standard\u001b[0m\u001b[1;33m(\u001b[0m\u001b[0mop\u001b[0m\u001b[1;33m,\u001b[0m \u001b[0mop_str\u001b[0m\u001b[1;33m,\u001b[0m \u001b[0ma\u001b[0m\u001b[1;33m,\u001b[0m \u001b[0mb\u001b[0m\u001b[1;33m)\u001b[0m\u001b[1;33m\u001b[0m\u001b[1;33m\u001b[0m\u001b[0m\n\u001b[0m\u001b[0;32m    129\u001b[0m \u001b[1;33m\u001b[0m\u001b[0m\n\u001b[0;32m    130\u001b[0m     \u001b[1;32mreturn\u001b[0m \u001b[0mresult\u001b[0m\u001b[1;33m\u001b[0m\u001b[1;33m\u001b[0m\u001b[0m\n",
      "\u001b[1;32m~\\Anaconda3\\lib\\site-packages\\pandas\\core\\computation\\expressions.py\u001b[0m in \u001b[0;36m_evaluate_standard\u001b[1;34m(op, op_str, a, b)\u001b[0m\n\u001b[0;32m     67\u001b[0m     \u001b[1;32mif\u001b[0m \u001b[0m_TEST_MODE\u001b[0m\u001b[1;33m:\u001b[0m\u001b[1;33m\u001b[0m\u001b[1;33m\u001b[0m\u001b[0m\n\u001b[0;32m     68\u001b[0m         \u001b[0m_store_test_result\u001b[0m\u001b[1;33m(\u001b[0m\u001b[1;32mFalse\u001b[0m\u001b[1;33m)\u001b[0m\u001b[1;33m\u001b[0m\u001b[1;33m\u001b[0m\u001b[0m\n\u001b[1;32m---> 69\u001b[1;33m     \u001b[1;32mreturn\u001b[0m \u001b[0mop\u001b[0m\u001b[1;33m(\u001b[0m\u001b[0ma\u001b[0m\u001b[1;33m,\u001b[0m \u001b[0mb\u001b[0m\u001b[1;33m)\u001b[0m\u001b[1;33m\u001b[0m\u001b[1;33m\u001b[0m\u001b[0m\n\u001b[0m\u001b[0;32m     70\u001b[0m \u001b[1;33m\u001b[0m\u001b[0m\n\u001b[0;32m     71\u001b[0m \u001b[1;33m\u001b[0m\u001b[0m\n",
      "\u001b[1;32m~\\Anaconda3\\lib\\site-packages\\pandas\\core\\roperator.py\u001b[0m in \u001b[0;36mrmul\u001b[1;34m(left, right)\u001b[0m\n\u001b[0;32m     15\u001b[0m \u001b[1;33m\u001b[0m\u001b[0m\n\u001b[0;32m     16\u001b[0m \u001b[1;32mdef\u001b[0m \u001b[0mrmul\u001b[0m\u001b[1;33m(\u001b[0m\u001b[0mleft\u001b[0m\u001b[1;33m,\u001b[0m \u001b[0mright\u001b[0m\u001b[1;33m)\u001b[0m\u001b[1;33m:\u001b[0m\u001b[1;33m\u001b[0m\u001b[1;33m\u001b[0m\u001b[0m\n\u001b[1;32m---> 17\u001b[1;33m     \u001b[1;32mreturn\u001b[0m \u001b[0mright\u001b[0m \u001b[1;33m*\u001b[0m \u001b[0mleft\u001b[0m\u001b[1;33m\u001b[0m\u001b[1;33m\u001b[0m\u001b[0m\n\u001b[0m\u001b[0;32m     18\u001b[0m \u001b[1;33m\u001b[0m\u001b[0m\n\u001b[0;32m     19\u001b[0m \u001b[1;33m\u001b[0m\u001b[0m\n",
      "\u001b[1;31mValueError\u001b[0m: operands could not be broadcast together with shapes (30,) (28,) "
     ]
    }
   ],
   "source": [
    "pasiv =  pd.DataFrame(index=range(len(dfsp)), columns=['Timestamp', 'Capital','Rendimiento', 'Rendimiento_Acumulado'])\n",
    "for i in range(len(dfsp)):\n",
    "    pasiv['Capital'][i]=(dfsp.iloc[i].values * dfp_new['Titulos']).sum()\n",
    "pasiv['Timestamp'] = dfsp.index\n",
    "pasiv_1 =  pd.DataFrame(index=range(1), columns=['Timestamp', 'Capital','Rendimiento', 'Rendimiento_Acumulado'])\n",
    "pasiv_1['Timestamp'] = \"2020-01-31\"\n",
    "pasiv_1['Capital'] = 1000000\n",
    "pasiv_1['Rendimiento'] = 0\n",
    "pasiv_1['Rendimiento_Acumulado'] = 0\n",
    "pasivo = pd.concat([pasiv_1,pasiv])\n",
    "pasivo['Rendimiento'] = pasivo['Capital'].pct_change()\n",
    "pasivo['Rendimiento_Acumulado'] = (pasivo['Capital'].pct_change()).cumsum()\n",
    "pasivo\n",
    "    \n",
    "    "
   ]
  },
  {
   "cell_type": "code",
   "execution_count": 329,
   "id": "1ca1e282",
   "metadata": {},
   "outputs": [],
   "source": [
    "def tasa_descuento(VN,Precio,plazo):\n",
    "    tasadesc = ((VN-Precio)/ VN )/plazo * 360\n",
    "    return tasadesc\n",
    "\n",
    "def precio_tasadesc(VN,plazo,tasadesc):\n",
    "    precio = VN * (1-(tasadesc/360)*plazo)\n",
    "    return precio\n",
    "\n",
    "def plazo(VN,Precio,tasadesc):\n",
    "    plazo = ((VN-Precio)/ VN )/tasadesc* 360\n",
    "    return plazo\n",
    "\n",
    "def tasa_rendimiento(VN,Precio,plazo):\n",
    "    tasarend = ((VN-Precio)/ Precio )/plazo * 360\n",
    "    return tasarend\n",
    "\n",
    "def precio_tasarend(VN,plazo,tasarend):\n",
    "    precio = VN / (1+(tasarend/360)*plazo)\n",
    "    return precio\n",
    "\n",
    "def convertir_tasa_a_rend(plazo,tasa):\n",
    "    tasarend = 1/(1/-tasa)+(plazo/360)\n",
    "    return tasarend\n",
    "\n",
    "def convertir_tasa_a_desc(plazo,tasa):\n",
    "    tasadesc = 1/((1/tasa)+(plazo/360))\n",
    "    return tasadesc\n",
    "\n",
    "    "
   ]
  },
  {
   "cell_type": "markdown",
   "id": "ec3d9ada",
   "metadata": {},
   "source": [
    "# subasta cetes"
   ]
  },
  {
   "cell_type": "code",
   "execution_count": 331,
   "id": "555b984b",
   "metadata": {},
   "outputs": [
    {
     "data": {
      "text/plain": [
       "0.08493518104604446"
      ]
     },
     "execution_count": 331,
     "metadata": {},
     "output_type": "execute_result"
    }
   ],
   "source": [
    "#28 dias\n",
    "tasa_descuento(10, precio_tasarend(10,28,0.0855),28)"
   ]
  },
  {
   "cell_type": "code",
   "execution_count": 332,
   "id": "53603423",
   "metadata": {},
   "outputs": [
    {
     "data": {
      "text/plain": [
       "0.09124573879903129"
      ]
     },
     "execution_count": 332,
     "metadata": {},
     "output_type": "execute_result"
    }
   ],
   "source": [
    "#91 dias\n",
    "tasa_descuento(10, precio_tasarend(10,91,0.0934),91)"
   ]
  },
  {
   "cell_type": "code",
   "execution_count": 333,
   "id": "951bcc26",
   "metadata": {},
   "outputs": [
    {
     "data": {
      "text/plain": [
       "0.0941905260267334"
      ]
     },
     "execution_count": 333,
     "metadata": {},
     "output_type": "execute_result"
    }
   ],
   "source": [
    "#182 dias\n",
    "tasa_descuento(10, precio_tasarend(10,182,0.0989),182)"
   ]
  },
  {
   "cell_type": "code",
   "execution_count": 330,
   "id": "78d147ca",
   "metadata": {},
   "outputs": [
    {
     "data": {
      "text/plain": [
       "0.012777777777777777"
      ]
     },
     "execution_count": 330,
     "metadata": {},
     "output_type": "execute_result"
    }
   ],
   "source": [
    "convertir_tasa_a_rend(28,0.065)"
   ]
  },
  {
   "cell_type": "code",
   "execution_count": 300,
   "id": "5e0bf297",
   "metadata": {},
   "outputs": [
    {
     "data": {
      "text/plain": [
       "9.837716666666667"
      ]
     },
     "execution_count": 300,
     "metadata": {},
     "output_type": "execute_result"
    }
   ],
   "source": [
    "precio(10,91,0.0642)"
   ]
  },
  {
   "cell_type": "code",
   "execution_count": 325,
   "id": "38155874",
   "metadata": {},
   "outputs": [
    {
     "data": {
      "text/plain": [
       "9.949444444444444"
      ]
     },
     "execution_count": 325,
     "metadata": {},
     "output_type": "execute_result"
    }
   ],
   "source": [
    "precio_tasadesc(10,28,0.065)"
   ]
  },
  {
   "cell_type": "code",
   "execution_count": 320,
   "id": "7f1cbd1e",
   "metadata": {},
   "outputs": [
    {
     "data": {
      "text/plain": [
       "0.0653302808643709"
      ]
     },
     "execution_count": 320,
     "metadata": {},
     "output_type": "execute_result"
    }
   ],
   "source": [
    "tasa_rendimiento(10,precio(10,28,0.065),28)"
   ]
  },
  {
   "cell_type": "code",
   "execution_count": 315,
   "id": "3bf41e6f",
   "metadata": {},
   "outputs": [
    {
     "data": {
      "text/plain": [
       "9.933499999999999"
      ]
     },
     "execution_count": 315,
     "metadata": {},
     "output_type": "execute_result"
    }
   ],
   "source": [
    "precio(10,28,0.0855)"
   ]
  },
  {
   "cell_type": "code",
   "execution_count": 321,
   "id": "d083aa7f",
   "metadata": {},
   "outputs": [
    {
     "data": {
      "text/plain": [
       "0.07023067803708768"
      ]
     },
     "execution_count": 321,
     "metadata": {},
     "output_type": "execute_result"
    }
   ],
   "source": [
    "tasa_descuento(10, precio_tasarend(10,91,0.0715),91)"
   ]
  },
  {
   "cell_type": "code",
   "execution_count": 326,
   "id": "47112c66",
   "metadata": {},
   "outputs": [
    {
     "data": {
      "text/plain": [
       "9.822472452739584"
      ]
     },
     "execution_count": 326,
     "metadata": {},
     "output_type": "execute_result"
    }
   ],
   "source": [
    "precio_tasarend(10,91,0.0715)"
   ]
  }
 ],
 "metadata": {
  "kernelspec": {
   "display_name": "Python 3 (ipykernel)",
   "language": "python",
   "name": "python3"
  },
  "language_info": {
   "codemirror_mode": {
    "name": "ipython",
    "version": 3
   },
   "file_extension": ".py",
   "mimetype": "text/x-python",
   "name": "python",
   "nbconvert_exporter": "python",
   "pygments_lexer": "ipython3",
   "version": "3.9.7"
  }
 },
 "nbformat": 4,
 "nbformat_minor": 5
}
